{
 "cells": [
  {
   "cell_type": "code",
   "execution_count": 50,
   "id": "acc5adff",
   "metadata": {},
   "outputs": [],
   "source": [
    "import sagemaker\n",
    "import boto3\n",
    "from sagemaker.amazon.amazon_estimator import get_image_uri\n",
    "from sagemaker.session import s3_input, Session"
   ]
  },
  {
   "cell_type": "code",
   "execution_count": 51,
   "id": "70f4a99a",
   "metadata": {},
   "outputs": [
    {
     "name": "stdout",
     "output_type": "stream",
     "text": [
      "Region: eu-north-1\n",
      "Bucket Name: bankapplication-b7c02fe6-e9dc-4369-9db5-4d612b7ad56b\n"
     ]
    }
   ],
   "source": [
    "import uuid\n",
    "bucket_name = 'bankapplication-' + str(uuid.uuid4())  # This will generate a unique bucket name\n",
    "my_region = boto3.session.Session().region_name\n",
    "print(f\"Region: {my_region}\")\n",
    "print(f\"Bucket Name: {bucket_name}\")"
   ]
  },
  {
   "cell_type": "code",
   "execution_count": 52,
   "id": "23dd9692",
   "metadata": {},
   "outputs": [
    {
     "name": "stdout",
     "output_type": "stream",
     "text": [
      "S3 bucket created successfully\n"
     ]
    }
   ],
   "source": [
    "import boto3\n",
    "\n",
    "s3 = boto3.resource('s3')\n",
    "try:\n",
    "    if my_region == 'eu-north-1':\n",
    "        s3.create_bucket(\n",
    "            Bucket=bucket_name,\n",
    "            CreateBucketConfiguration={\n",
    "                'LocationConstraint': my_region\n",
    "            }\n",
    "        )\n",
    "        print('S3 bucket created successfully')\n",
    "except Exception as e:\n",
    "    print('Failed to create:', e)\n"
   ]
  },
  {
   "cell_type": "code",
   "execution_count": 53,
   "id": "9ec53f81",
   "metadata": {},
   "outputs": [
    {
     "name": "stdout",
     "output_type": "stream",
     "text": [
      "s3://bankapplication-b7c02fe6-e9dc-4369-9db5-4d612b7ad56b/xgboost-as-a-built-in-algo/output\n"
     ]
    }
   ],
   "source": [
    "prefix = 'xgboost-as-a-built-in-algo'\n",
    "output_path = 's3://{}/{}/output'.format(bucket_name,prefix)\n",
    "print(output_path)\n"
   ]
  },
  {
   "cell_type": "code",
   "execution_count": 54,
   "id": "030a9b73",
   "metadata": {},
   "outputs": [
    {
     "name": "stdout",
     "output_type": "stream",
     "text": [
      "loading Successfull\n"
     ]
    }
   ],
   "source": [
    "import pandas as pd\n",
    "import urllib\n",
    "try:\n",
    "    urllib.request.urlretrieve(\"https://d1.awsstatic.com/tmt/build-train-deploy-machine-learning-model-sagemaker/bank_clean.27f01fbbdf43271788427f3682996ae29ceca05d.csv\", \"bank_clean.csv\")\n",
    "    print(\"loading Successfull\")\n",
    "except Exception as e:\n",
    "    print(\"data load error\")\n"
   ]
  },
  {
   "cell_type": "code",
   "execution_count": 55,
   "id": "c21b87e3",
   "metadata": {},
   "outputs": [
    {
     "name": "stdout",
     "output_type": "stream",
     "text": [
      "Success load data into fram\n"
     ]
    }
   ],
   "source": [
    "try:\n",
    "    model_data = pd.read_csv(\"./bank_clean.csv\",index_col = 0)\n",
    "    print(\"Success load data into fram\")\n",
    "except Exception as e:\n",
    "    print(\"error in loading of data into fram\")\n",
    "    "
   ]
  },
  {
   "cell_type": "code",
   "execution_count": 56,
   "id": "facdbc30",
   "metadata": {},
   "outputs": [
    {
     "name": "stdout",
     "output_type": "stream",
     "text": [
      "(28831, 61) (12357, 61)\n"
     ]
    },
    {
     "name": "stderr",
     "output_type": "stream",
     "text": [
      "/home/ec2-user/anaconda3/envs/python3/lib/python3.10/site-packages/numpy/core/fromnumeric.py:57: FutureWarning: 'DataFrame.swapaxes' is deprecated and will be removed in a future version. Please use 'DataFrame.transpose' instead.\n",
      "  return bound(*args, **kwds)\n"
     ]
    }
   ],
   "source": [
    "import numpy as np\n",
    "train_data, test_data = np.split(model_data.sample(frac=1, random_state=1729), [int(0.7 * len(model_data))])\n",
    "print(train_data.shape, test_data.shape)\n",
    "\n"
   ]
  },
  {
   "cell_type": "code",
   "execution_count": 57,
   "id": "574b2942",
   "metadata": {},
   "outputs": [
    {
     "name": "stderr",
     "output_type": "stream",
     "text": [
      "INFO:botocore.credentials:Found credentials from IAM Role: BaseNotebookInstanceEc2InstanceRole\n",
      "INFO:botocore.credentials:Found credentials from IAM Role: BaseNotebookInstanceEc2InstanceRole\n"
     ]
    }
   ],
   "source": [
    "import os\n",
    "pd.concat([train_data['y_yes'], train_data.drop(['y_yes', 'y_no'], axis=1)], axis=1).to_csv('train.csv', header=False, index=False)\n",
    "pd.concat([test_data['y_yes'], test_data.drop(['y_yes', 'y_no'], axis=1)], axis=1).to_csv('test.csv', header=False, index=False)\n",
    "boto3.Session().resource('s3').Bucket(bucket_name).Object(os.path.join(prefix, 'train/train.csv')).upload_file('train.csv')\n",
    "boto3.Session().resource('s3').Bucket(bucket_name).Object(os.path.join(prefix, 'test/test.csv')).upload_file('test.csv')\n",
    "s3_input_train = sagemaker.inputs.TrainingInput(\n",
    "    s3_data='s3://{}/{}/train'.format(bucket_name, prefix),\n",
    "    content_type='csv'\n",
    ")\n",
    "s3_input_test = sagemaker.inputs.TrainingInput(\n",
    "    s3_data='s3://{}/{}/test'.format(bucket_name, prefix),\n",
    "    content_type='csv'\n",
    ")"
   ]
  },
  {
   "cell_type": "code",
   "execution_count": 58,
   "id": "50c654ff",
   "metadata": {},
   "outputs": [
    {
     "name": "stderr",
     "output_type": "stream",
     "text": [
      "WARNING:sagemaker.deprecations:The method get_image_uri has been renamed in sagemaker>=2.\n",
      "See: https://sagemaker.readthedocs.io/en/stable/v2.html for details.\n",
      "INFO:sagemaker.image_uris:Defaulting to only available Python version: py3\n",
      "INFO:sagemaker.image_uris:Defaulting to only supported image scope: cpu.\n"
     ]
    }
   ],
   "source": [
    "container = get_image_uri(boto3.Session().region_name,'xgboost',repo_version = '1.0-1')\n"
   ]
  },
  {
   "cell_type": "code",
   "execution_count": 59,
   "id": "10eaf702",
   "metadata": {},
   "outputs": [],
   "source": [
    "hyperparameter = {\n",
    "    \"max_depth\":\"5\",\n",
    "    \"eta\": \"0.2\",\n",
    "    \"gamma\" : \"0.4\",\n",
    "    \"min_child_weight\":\"6\",\n",
    "    \"subsample\":\"0.7\",\n",
    "    \"objective\":\"binary:logistic\"\n",
    "   \n",
    "}"
   ]
  },
  {
   "cell_type": "code",
   "execution_count": 60,
   "id": "8d26e536",
   "metadata": {},
   "outputs": [
    {
     "name": "stderr",
     "output_type": "stream",
     "text": [
      "WARNING:sagemaker.deprecations:train_instance_count has been renamed in sagemaker>=2.\n",
      "See: https://sagemaker.readthedocs.io/en/stable/v2.html for details.\n",
      "WARNING:sagemaker.deprecations:train_instance_type has been renamed in sagemaker>=2.\n",
      "See: https://sagemaker.readthedocs.io/en/stable/v2.html for details.\n",
      "WARNING:sagemaker.deprecations:train_max_run has been renamed in sagemaker>=2.\n",
      "See: https://sagemaker.readthedocs.io/en/stable/v2.html for details.\n",
      "WARNING:sagemaker.deprecations:train_use_spot_instances has been renamed in sagemaker>=2.\n",
      "See: https://sagemaker.readthedocs.io/en/stable/v2.html for details.\n",
      "WARNING:sagemaker.deprecations:train_max_wait has been renamed in sagemaker>=2.\n",
      "See: https://sagemaker.readthedocs.io/en/stable/v2.html for details.\n",
      "WARNING:sagemaker.deprecations:train_volume_size has been renamed in sagemaker>=2.\n",
      "See: https://sagemaker.readthedocs.io/en/stable/v2.html for details.\n"
     ]
    }
   ],
   "source": [
    "estimator = sagemaker.estimator.Estimator(\n",
    "    image_uri=container,\n",
    "    hyperparameters=hyperparameter,\n",
    "    role=sagemaker.get_execution_role(),\n",
    "    train_instance_count=1,\n",
    "    train_instance_type=\"ml.m5.2xlarge\",  # Corrected instance type format\n",
    "    train_volume_size=5,  # Size in GB\n",
    "    output_path=output_path,\n",
    "    train_use_spot_instances=True,\n",
    "    train_max_run=300,\n",
    "    train_max_wait=600  # Max wait time for spot instances\n",
    ")\n",
    "estimator.set_hyperparameters(\n",
    "    num_round=100,  # Example: Set to a suitable number based on your dataset\n",
    "    objective=\"binary:logistic\"\n",
    ")\n",
    "\n"
   ]
  },
  {
   "cell_type": "code",
   "execution_count": 61,
   "id": "4fe87330",
   "metadata": {},
   "outputs": [
    {
     "name": "stderr",
     "output_type": "stream",
     "text": [
      "INFO:sagemaker:Creating training-job with name: sagemaker-xgboost-2024-10-02-12-15-37-396\n"
     ]
    },
    {
     "name": "stdout",
     "output_type": "stream",
     "text": [
      "2024-10-02 12:15:40 Starting - Starting the training job...\n",
      "2024-10-02 12:15:53 Starting - Preparing the instances for training...\n",
      "2024-10-02 12:16:29 Downloading - Downloading the training image...\n",
      "2024-10-02 12:17:05 Training - Training image download completed. Training in progress...\u001b[34m[2024-10-02 12:17:20.726 ip-10-0-160-192.eu-north-1.compute.internal:7 INFO utils.py:27] RULE_JOB_STOP_SIGNAL_FILENAME: None\u001b[0m\n",
      "\u001b[34mINFO:sagemaker-containers:Imported framework sagemaker_xgboost_container.training\u001b[0m\n",
      "\u001b[34mINFO:sagemaker-containers:Failed to parse hyperparameter objective value binary:logistic to Json.\u001b[0m\n",
      "\u001b[34mReturning the value itself\u001b[0m\n",
      "\u001b[34mINFO:sagemaker-containers:No GPUs detected (normal if no gpus installed)\u001b[0m\n",
      "\u001b[34mINFO:sagemaker_xgboost_container.training:Running XGBoost Sagemaker in algorithm mode\u001b[0m\n",
      "\u001b[34mINFO:root:Determined delimiter of CSV input is ','\u001b[0m\n",
      "\u001b[34mINFO:root:Determined delimiter of CSV input is ','\u001b[0m\n",
      "\u001b[34mINFO:root:Determined delimiter of CSV input is ','\u001b[0m\n",
      "\u001b[34mINFO:root:Determined delimiter of CSV input is ','\u001b[0m\n",
      "\u001b[34mINFO:root:Single node training.\u001b[0m\n",
      "\u001b[34m[12:17:20] 28831x59 matrix with 1701029 entries loaded from /opt/ml/input/data/train?format=csv&label_column=0&delimiter=,\u001b[0m\n",
      "\u001b[34m[12:17:20] 12357x59 matrix with 729063 entries loaded from /opt/ml/input/data/validation?format=csv&label_column=0&delimiter=,\u001b[0m\n",
      "\u001b[34m[2024-10-02 12:17:20.883 ip-10-0-160-192.eu-north-1.compute.internal:7 INFO json_config.py:91] Creating hook from json_config at /opt/ml/input/config/debughookconfig.json.\u001b[0m\n",
      "\u001b[34m[2024-10-02 12:17:20.883 ip-10-0-160-192.eu-north-1.compute.internal:7 INFO hook.py:201] tensorboard_dir has not been set for the hook. SMDebug will not be exporting tensorboard summaries.\u001b[0m\n",
      "\u001b[34m[2024-10-02 12:17:20.884 ip-10-0-160-192.eu-north-1.compute.internal:7 INFO profiler_config_parser.py:102] User has disabled profiler.\u001b[0m\n",
      "\u001b[34m[2024-10-02 12:17:20.884 ip-10-0-160-192.eu-north-1.compute.internal:7 INFO hook.py:255] Saving to /opt/ml/output/tensors\u001b[0m\n",
      "\u001b[34m[2024-10-02 12:17:20.884 ip-10-0-160-192.eu-north-1.compute.internal:7 INFO state_store.py:77] The checkpoint config file /opt/ml/input/config/checkpointconfig.json does not exist.\u001b[0m\n",
      "\u001b[34mINFO:root:Debug hook created from config\u001b[0m\n",
      "\u001b[34mINFO:root:Train matrix has 28831 rows\u001b[0m\n",
      "\u001b[34mINFO:root:Validation matrix has 12357 rows\u001b[0m\n",
      "\u001b[34m[12:17:20] WARNING: /workspace/src/learner.cc:328: \u001b[0m\n",
      "\u001b[34mParameters: { num_round } might not be used.\n",
      "  This may not be accurate due to some parameters are only used in language bindings but\n",
      "  passed down to XGBoost core.  Or some parameters are not used but slip through this\n",
      "  verification. Please open an issue if you find above cases.\u001b[0m\n",
      "\u001b[34m[0]#011train-error:0.10017#011validation-error:0.10512\u001b[0m\n",
      "\u001b[34m[2024-10-02 12:17:20.926 ip-10-0-160-192.eu-north-1.compute.internal:7 INFO hook.py:423] Monitoring the collections: metrics\u001b[0m\n",
      "\u001b[34m[2024-10-02 12:17:20.928 ip-10-0-160-192.eu-north-1.compute.internal:7 INFO hook.py:486] Hook is writing from the hook with pid: 7\u001b[0m\n",
      "\u001b[34m[1]#011train-error:0.09913#011validation-error:0.10504\u001b[0m\n",
      "\u001b[34m[2]#011train-error:0.09920#011validation-error:0.10561\u001b[0m\n",
      "\u001b[34m[3]#011train-error:0.09920#011validation-error:0.10415\u001b[0m\n",
      "\u001b[34m[4]#011train-error:0.09889#011validation-error:0.10415\u001b[0m\n",
      "\u001b[34m[5]#011train-error:0.09910#011validation-error:0.10407\u001b[0m\n",
      "\u001b[34m[6]#011train-error:0.09916#011validation-error:0.10407\u001b[0m\n",
      "\u001b[34m[7]#011train-error:0.09885#011validation-error:0.10367\u001b[0m\n",
      "\u001b[34m[8]#011train-error:0.09861#011validation-error:0.10367\u001b[0m\n",
      "\u001b[34m[9]#011train-error:0.09868#011validation-error:0.10302\u001b[0m\n",
      "\u001b[34m[10]#011train-error:0.09844#011validation-error:0.10302\u001b[0m\n",
      "\u001b[34m[11]#011train-error:0.09840#011validation-error:0.10423\u001b[0m\n",
      "\u001b[34m[12]#011train-error:0.09819#011validation-error:0.10464\u001b[0m\n",
      "\u001b[34m[13]#011train-error:0.09837#011validation-error:0.10464\u001b[0m\n",
      "\u001b[34m[14]#011train-error:0.09802#011validation-error:0.10472\u001b[0m\n",
      "\u001b[34m[15]#011train-error:0.09788#011validation-error:0.10504\u001b[0m\n",
      "\u001b[34m[16]#011train-error:0.09805#011validation-error:0.10504\u001b[0m\n",
      "\u001b[34m[17]#011train-error:0.09781#011validation-error:0.10496\u001b[0m\n",
      "\u001b[34m[18]#011train-error:0.09778#011validation-error:0.10504\u001b[0m\n",
      "\u001b[34m[19]#011train-error:0.09785#011validation-error:0.10512\u001b[0m\n",
      "\u001b[34m[20]#011train-error:0.09767#011validation-error:0.10528\u001b[0m\n",
      "\u001b[34m[21]#011train-error:0.09736#011validation-error:0.10528\u001b[0m\n",
      "\u001b[34m[22]#011train-error:0.09760#011validation-error:0.10537\u001b[0m\n",
      "\u001b[34m[23]#011train-error:0.09757#011validation-error:0.10569\u001b[0m\n",
      "\u001b[34m[24]#011train-error:0.09729#011validation-error:0.10537\u001b[0m\n",
      "\u001b[34m[25]#011train-error:0.09733#011validation-error:0.10561\u001b[0m\n",
      "\u001b[34m[26]#011train-error:0.09715#011validation-error:0.10545\u001b[0m\n",
      "\u001b[34m[27]#011train-error:0.09712#011validation-error:0.10520\u001b[0m\n",
      "\u001b[34m[28]#011train-error:0.09691#011validation-error:0.10520\u001b[0m\n",
      "\u001b[34m[29]#011train-error:0.09663#011validation-error:0.10520\u001b[0m\n",
      "\u001b[34m[30]#011train-error:0.09660#011validation-error:0.10528\u001b[0m\n",
      "\u001b[34m[31]#011train-error:0.09646#011validation-error:0.10545\u001b[0m\n",
      "\u001b[34m[32]#011train-error:0.09660#011validation-error:0.10528\u001b[0m\n",
      "\u001b[34m[33]#011train-error:0.09646#011validation-error:0.10537\u001b[0m\n",
      "\u001b[34m[34]#011train-error:0.09656#011validation-error:0.10528\u001b[0m\n",
      "\u001b[34m[35]#011train-error:0.09670#011validation-error:0.10553\u001b[0m\n",
      "\u001b[34m[36]#011train-error:0.09646#011validation-error:0.10537\u001b[0m\n",
      "\u001b[34m[37]#011train-error:0.09625#011validation-error:0.10537\u001b[0m\n",
      "\u001b[34m[38]#011train-error:0.09615#011validation-error:0.10553\u001b[0m\n",
      "\u001b[34m[39]#011train-error:0.09618#011validation-error:0.10553\u001b[0m\n",
      "\u001b[34m[40]#011train-error:0.09604#011validation-error:0.10585\u001b[0m\n",
      "\u001b[34m[41]#011train-error:0.09625#011validation-error:0.10585\u001b[0m\n",
      "\u001b[34m[42]#011train-error:0.09608#011validation-error:0.10593\u001b[0m\n",
      "\u001b[34m[43]#011train-error:0.09570#011validation-error:0.10545\u001b[0m\n",
      "\u001b[34m[44]#011train-error:0.09604#011validation-error:0.10528\u001b[0m\n",
      "\u001b[34m[45]#011train-error:0.09625#011validation-error:0.10504\u001b[0m\n",
      "\u001b[34m[46]#011train-error:0.09622#011validation-error:0.10520\u001b[0m\n",
      "\u001b[34m[47]#011train-error:0.09611#011validation-error:0.10512\u001b[0m\n",
      "\u001b[34m[48]#011train-error:0.09580#011validation-error:0.10488\u001b[0m\n",
      "\u001b[34m[49]#011train-error:0.09549#011validation-error:0.10480\u001b[0m\n",
      "\u001b[34m[50]#011train-error:0.09528#011validation-error:0.10431\u001b[0m\n",
      "\u001b[34m[51]#011train-error:0.09535#011validation-error:0.10431\u001b[0m\n",
      "\u001b[34m[52]#011train-error:0.09542#011validation-error:0.10464\u001b[0m\n",
      "\u001b[34m[53]#011train-error:0.09524#011validation-error:0.10447\u001b[0m\n",
      "\u001b[34m[54]#011train-error:0.09504#011validation-error:0.10415\u001b[0m\n",
      "\u001b[34m[55]#011train-error:0.09535#011validation-error:0.10464\u001b[0m\n",
      "\u001b[34m[56]#011train-error:0.09524#011validation-error:0.10472\u001b[0m\n",
      "\u001b[34m[57]#011train-error:0.09500#011validation-error:0.10423\u001b[0m\n",
      "\u001b[34m[58]#011train-error:0.09504#011validation-error:0.10456\u001b[0m\n",
      "\u001b[34m[59]#011train-error:0.09517#011validation-error:0.10415\u001b[0m\n",
      "\u001b[34m[60]#011train-error:0.09497#011validation-error:0.10407\u001b[0m\n",
      "\u001b[34m[61]#011train-error:0.09479#011validation-error:0.10456\u001b[0m\n",
      "\u001b[34m[62]#011train-error:0.09466#011validation-error:0.10480\u001b[0m\n",
      "\u001b[34m[63]#011train-error:0.09466#011validation-error:0.10456\u001b[0m\n",
      "\u001b[34m[64]#011train-error:0.09455#011validation-error:0.10504\u001b[0m\n",
      "\u001b[34m[65]#011train-error:0.09400#011validation-error:0.10512\u001b[0m\n",
      "\u001b[34m[66]#011train-error:0.09389#011validation-error:0.10504\u001b[0m\n",
      "\u001b[34m[67]#011train-error:0.09372#011validation-error:0.10456\u001b[0m\n",
      "\u001b[34m[68]#011train-error:0.09386#011validation-error:0.10528\u001b[0m\n",
      "\u001b[34m[69]#011train-error:0.09351#011validation-error:0.10520\u001b[0m\n",
      "\u001b[34m[70]#011train-error:0.09334#011validation-error:0.10537\u001b[0m\n",
      "\u001b[34m[71]#011train-error:0.09334#011validation-error:0.10520\u001b[0m\n",
      "\u001b[34m[72]#011train-error:0.09330#011validation-error:0.10528\u001b[0m\n",
      "\u001b[34m[73]#011train-error:0.09334#011validation-error:0.10504\u001b[0m\n",
      "\u001b[34m[74]#011train-error:0.09292#011validation-error:0.10512\u001b[0m\n",
      "\u001b[34m[75]#011train-error:0.09320#011validation-error:0.10488\u001b[0m\n",
      "\u001b[34m[76]#011train-error:0.09309#011validation-error:0.10512\u001b[0m\n",
      "\u001b[34m[77]#011train-error:0.09299#011validation-error:0.10553\u001b[0m\n",
      "\u001b[34m[78]#011train-error:0.09295#011validation-error:0.10553\u001b[0m\n",
      "\u001b[34m[79]#011train-error:0.09275#011validation-error:0.10488\u001b[0m\n",
      "\u001b[34m[80]#011train-error:0.09285#011validation-error:0.10480\u001b[0m\n",
      "\u001b[34m[81]#011train-error:0.09254#011validation-error:0.10472\u001b[0m\n",
      "\u001b[34m[82]#011train-error:0.09268#011validation-error:0.10512\u001b[0m\n",
      "\u001b[34m[83]#011train-error:0.09264#011validation-error:0.10496\u001b[0m\n",
      "\u001b[34m[84]#011train-error:0.09268#011validation-error:0.10480\u001b[0m\n",
      "\u001b[34m[85]#011train-error:0.09244#011validation-error:0.10537\u001b[0m\n",
      "\u001b[34m[86]#011train-error:0.09219#011validation-error:0.10512\u001b[0m\n",
      "\u001b[34m[87]#011train-error:0.09205#011validation-error:0.10537\u001b[0m\n",
      "\u001b[34m[88]#011train-error:0.09188#011validation-error:0.10537\u001b[0m\n",
      "\u001b[34m[89]#011train-error:0.09157#011validation-error:0.10512\u001b[0m\n",
      "\u001b[34m[90]#011train-error:0.09181#011validation-error:0.10464\u001b[0m\n",
      "\u001b[34m[91]#011train-error:0.09185#011validation-error:0.10456\u001b[0m\n",
      "\u001b[34m[92]#011train-error:0.09153#011validation-error:0.10496\u001b[0m\n",
      "\u001b[34m[93]#011train-error:0.09136#011validation-error:0.10545\u001b[0m\n",
      "\u001b[34m[94]#011train-error:0.09098#011validation-error:0.10537\u001b[0m\n",
      "\u001b[34m[95]#011train-error:0.09094#011validation-error:0.10561\u001b[0m\n",
      "\u001b[34m[96]#011train-error:0.09084#011validation-error:0.10561\u001b[0m\n",
      "\u001b[34m[97]#011train-error:0.09063#011validation-error:0.10577\u001b[0m\n",
      "\u001b[34m[98]#011train-error:0.09032#011validation-error:0.10577\u001b[0m\n",
      "\u001b[34m[99]#011train-error:0.09039#011validation-error:0.10537\u001b[0m\n",
      "\n",
      "2024-10-02 12:17:38 Uploading - Uploading generated training model\n",
      "2024-10-02 12:17:38 Completed - Training job completed\n",
      "Training seconds: 84\n",
      "Billable seconds: 26\n",
      "Managed Spot Training savings: 69.0%\n"
     ]
    }
   ],
   "source": [
    "estimator.fit({'train':s3_input_train,'validation':s3_input_test})"
   ]
  },
  {
   "cell_type": "code",
   "execution_count": 65,
   "id": "24290dcc",
   "metadata": {},
   "outputs": [
    {
     "name": "stderr",
     "output_type": "stream",
     "text": [
      "INFO:sagemaker:Creating model with name: sagemaker-xgboost-2024-10-02-12-32-49-431\n",
      "INFO:sagemaker:Creating endpoint-config with name sagemaker-xgboost-2024-10-02-12-32-49-431\n",
      "INFO:sagemaker:Creating endpoint with name sagemaker-xgboost-2024-10-02-12-32-49-431\n"
     ]
    },
    {
     "name": "stdout",
     "output_type": "stream",
     "text": [
      "-----!"
     ]
    }
   ],
   "source": [
    "xdb_predictor = estimator.deploy(initial_instance_count=1, instance_type='ml.m5.xlarge')\n"
   ]
  },
  {
   "cell_type": "code",
   "execution_count": 69,
   "id": "68283d2e",
   "metadata": {},
   "outputs": [
    {
     "name": "stdout",
     "output_type": "stream",
     "text": [
      "(12357,)\n"
     ]
    }
   ],
   "source": [
    "from sagemaker.serializers import CSVSerializer\n",
    "test_data_array = test_data.drop(['y_no', 'y_yes'], axis=1).values\n",
    "xdb_predictor.serializer = CSVSerializer()\n",
    "xdb_predictor.content_type = 'text/csv'\n",
    "predictions = xdb_predictor.predict(test_data_array).decode('utf-8')\n",
    "predictions_array = np.fromstring(predictions[1:], sep=',')\n",
    "print(predictions_array.shape)\n"
   ]
  },
  {
   "cell_type": "code",
   "execution_count": 70,
   "id": "8cc2f5a5",
   "metadata": {},
   "outputs": [
    {
     "name": "stdout",
     "output_type": "stream",
     "text": [
      "\n",
      "Overall Classification Rate: 89.5%\n",
      "\n",
      "Predicted      No Purchase    Purchase\n",
      "Observed\n",
      "No Purchase    91% (10754)    38% (182)\n",
      "Purchase        9% (1120)     62% (301) \n",
      "\n"
     ]
    }
   ],
   "source": [
    "cm = pd.crosstab(index=test_data['y_yes'], columns=np.round(predictions_array), rownames=['Observed'], colnames=['Predicted'])\n",
    "tn = cm.iloc[0,0]; fn = cm.iloc[1,0]; tp = cm.iloc[1,1]; fp = cm.iloc[0,1]; p = (tp+tn)/(tp+tn+fp+fn)*100\n",
    "print(\"\\n{0:<20}{1:<4.1f}%\\n\".format(\"Overall Classification Rate: \", p))\n",
    "print(\"{0:<15}{1:<15}{2:>8}\".format(\"Predicted\", \"No Purchase\", \"Purchase\"))\n",
    "print(\"Observed\")\n",
    "print(\"{0:<15}{1:<2.0f}% ({2:<}){3:>6.0f}% ({4:<})\".format(\"No Purchase\", tn/(tn+fn)*100,tn, fp/(tp+fp)*100, fp))\n",
    "print(\"{0:<16}{1:<1.0f}% ({2:<}){3:>7.0f}% ({4:<}) \\n\".format(\"Purchase\", fn/(tn+fn)*100,fn, tp/(tp+fp)*100, tp))\n"
   ]
  },
  {
   "cell_type": "code",
   "execution_count": 77,
   "id": "fe3cbebc",
   "metadata": {},
   "outputs": [
    {
     "ename": "ClientError",
     "evalue": "An error occurred (AllAccessDisabled) when calling the ListObjects operation: All access to this object has been disabled",
     "output_type": "error",
     "traceback": [
      "\u001b[0;31m---------------------------------------------------------------------------\u001b[0m",
      "\u001b[0;31mClientError\u001b[0m                               Traceback (most recent call last)",
      "Cell \u001b[0;32mIn[77], line 2\u001b[0m\n\u001b[1;32m      1\u001b[0m bucket_to_delete \u001b[38;5;241m=\u001b[39m boto3\u001b[38;5;241m.\u001b[39mresource(\u001b[38;5;124m'\u001b[39m\u001b[38;5;124ms3\u001b[39m\u001b[38;5;124m'\u001b[39m)\u001b[38;5;241m.\u001b[39mBucket(bucket_name)\n\u001b[0;32m----> 2\u001b[0m \u001b[43mbucket_to_delete\u001b[49m\u001b[38;5;241;43m.\u001b[39;49m\u001b[43mobjects\u001b[49m\u001b[38;5;241;43m.\u001b[39;49m\u001b[43mall\u001b[49m\u001b[43m(\u001b[49m\u001b[43m)\u001b[49m\u001b[38;5;241;43m.\u001b[39;49m\u001b[43mdelete\u001b[49m\u001b[43m(\u001b[49m\u001b[43m)\u001b[49m\n",
      "File \u001b[0;32m~/anaconda3/envs/python3/lib/python3.10/site-packages/boto3/resources/collection.py:555\u001b[0m, in \u001b[0;36mCollectionFactory._create_batch_action.<locals>.batch_action\u001b[0;34m(self, *args, **kwargs)\u001b[0m\n\u001b[1;32m    554\u001b[0m \u001b[38;5;28;01mdef\u001b[39;00m \u001b[38;5;21mbatch_action\u001b[39m(\u001b[38;5;28mself\u001b[39m, \u001b[38;5;241m*\u001b[39margs, \u001b[38;5;241m*\u001b[39m\u001b[38;5;241m*\u001b[39mkwargs):\n\u001b[0;32m--> 555\u001b[0m     \u001b[38;5;28;01mreturn\u001b[39;00m \u001b[43maction\u001b[49m\u001b[43m(\u001b[49m\u001b[38;5;28;43mself\u001b[39;49m\u001b[43m,\u001b[49m\u001b[43m \u001b[49m\u001b[38;5;241;43m*\u001b[39;49m\u001b[43margs\u001b[49m\u001b[43m,\u001b[49m\u001b[43m \u001b[49m\u001b[38;5;241;43m*\u001b[39;49m\u001b[38;5;241;43m*\u001b[39;49m\u001b[43mkwargs\u001b[49m\u001b[43m)\u001b[49m\n",
      "File \u001b[0;32m~/anaconda3/envs/python3/lib/python3.10/site-packages/boto3/resources/action.py:134\u001b[0m, in \u001b[0;36mBatchAction.__call__\u001b[0;34m(self, parent, *args, **kwargs)\u001b[0m\n\u001b[1;32m    129\u001b[0m operation_name \u001b[38;5;241m=\u001b[39m xform_name(\u001b[38;5;28mself\u001b[39m\u001b[38;5;241m.\u001b[39m_action_model\u001b[38;5;241m.\u001b[39mrequest\u001b[38;5;241m.\u001b[39moperation)\n\u001b[1;32m    131\u001b[0m \u001b[38;5;66;03m# Unlike the simple action above, a batch action must operate\u001b[39;00m\n\u001b[1;32m    132\u001b[0m \u001b[38;5;66;03m# on batches (or pages) of items. So we get each page, construct\u001b[39;00m\n\u001b[1;32m    133\u001b[0m \u001b[38;5;66;03m# the necessary parameters and call the batch operation.\u001b[39;00m\n\u001b[0;32m--> 134\u001b[0m \u001b[38;5;28;01mfor\u001b[39;00m page \u001b[38;5;129;01min\u001b[39;00m parent\u001b[38;5;241m.\u001b[39mpages():\n\u001b[1;32m    135\u001b[0m     params \u001b[38;5;241m=\u001b[39m {}\n\u001b[1;32m    136\u001b[0m     \u001b[38;5;28;01mfor\u001b[39;00m index, resource \u001b[38;5;129;01min\u001b[39;00m \u001b[38;5;28menumerate\u001b[39m(page):\n\u001b[1;32m    137\u001b[0m         \u001b[38;5;66;03m# There is no public interface to get a service name\u001b[39;00m\n\u001b[1;32m    138\u001b[0m         \u001b[38;5;66;03m# or low-level client from a collection, so we get\u001b[39;00m\n\u001b[1;32m    139\u001b[0m         \u001b[38;5;66;03m# these from the first resource in the collection.\u001b[39;00m\n",
      "File \u001b[0;32m~/anaconda3/envs/python3/lib/python3.10/site-packages/boto3/resources/collection.py:169\u001b[0m, in \u001b[0;36mResourceCollection.pages\u001b[0;34m(self)\u001b[0m\n\u001b[1;32m    166\u001b[0m \u001b[38;5;66;03m# Now that we have a page iterator or single page of results\u001b[39;00m\n\u001b[1;32m    167\u001b[0m \u001b[38;5;66;03m# we start processing and yielding individual items.\u001b[39;00m\n\u001b[1;32m    168\u001b[0m count \u001b[38;5;241m=\u001b[39m \u001b[38;5;241m0\u001b[39m\n\u001b[0;32m--> 169\u001b[0m \u001b[38;5;28;01mfor\u001b[39;00m page \u001b[38;5;129;01min\u001b[39;00m pages:\n\u001b[1;32m    170\u001b[0m     page_items \u001b[38;5;241m=\u001b[39m []\n\u001b[1;32m    171\u001b[0m     \u001b[38;5;28;01mfor\u001b[39;00m item \u001b[38;5;129;01min\u001b[39;00m \u001b[38;5;28mself\u001b[39m\u001b[38;5;241m.\u001b[39m_handler(\u001b[38;5;28mself\u001b[39m\u001b[38;5;241m.\u001b[39m_parent, params, page):\n",
      "File \u001b[0;32m~/anaconda3/envs/python3/lib/python3.10/site-packages/botocore/paginate.py:269\u001b[0m, in \u001b[0;36mPageIterator.__iter__\u001b[0;34m(self)\u001b[0m\n\u001b[1;32m    267\u001b[0m \u001b[38;5;28mself\u001b[39m\u001b[38;5;241m.\u001b[39m_inject_starting_params(current_kwargs)\n\u001b[1;32m    268\u001b[0m \u001b[38;5;28;01mwhile\u001b[39;00m \u001b[38;5;28;01mTrue\u001b[39;00m:\n\u001b[0;32m--> 269\u001b[0m     response \u001b[38;5;241m=\u001b[39m \u001b[38;5;28;43mself\u001b[39;49m\u001b[38;5;241;43m.\u001b[39;49m\u001b[43m_make_request\u001b[49m\u001b[43m(\u001b[49m\u001b[43mcurrent_kwargs\u001b[49m\u001b[43m)\u001b[49m\n\u001b[1;32m    270\u001b[0m     parsed \u001b[38;5;241m=\u001b[39m \u001b[38;5;28mself\u001b[39m\u001b[38;5;241m.\u001b[39m_extract_parsed_response(response)\n\u001b[1;32m    271\u001b[0m     \u001b[38;5;28;01mif\u001b[39;00m first_request:\n\u001b[1;32m    272\u001b[0m         \u001b[38;5;66;03m# The first request is handled differently.  We could\u001b[39;00m\n\u001b[1;32m    273\u001b[0m         \u001b[38;5;66;03m# possibly have a resume/starting token that tells us where\u001b[39;00m\n\u001b[1;32m    274\u001b[0m         \u001b[38;5;66;03m# to index into the retrieved page.\u001b[39;00m\n",
      "File \u001b[0;32m~/anaconda3/envs/python3/lib/python3.10/site-packages/botocore/paginate.py:357\u001b[0m, in \u001b[0;36mPageIterator._make_request\u001b[0;34m(self, current_kwargs)\u001b[0m\n\u001b[1;32m    356\u001b[0m \u001b[38;5;28;01mdef\u001b[39;00m \u001b[38;5;21m_make_request\u001b[39m(\u001b[38;5;28mself\u001b[39m, current_kwargs):\n\u001b[0;32m--> 357\u001b[0m     \u001b[38;5;28;01mreturn\u001b[39;00m \u001b[38;5;28;43mself\u001b[39;49m\u001b[38;5;241;43m.\u001b[39;49m\u001b[43m_method\u001b[49m\u001b[43m(\u001b[49m\u001b[38;5;241;43m*\u001b[39;49m\u001b[38;5;241;43m*\u001b[39;49m\u001b[43mcurrent_kwargs\u001b[49m\u001b[43m)\u001b[49m\n",
      "File \u001b[0;32m~/anaconda3/envs/python3/lib/python3.10/site-packages/botocore/client.py:569\u001b[0m, in \u001b[0;36mClientCreator._create_api_method.<locals>._api_call\u001b[0;34m(self, *args, **kwargs)\u001b[0m\n\u001b[1;32m    565\u001b[0m     \u001b[38;5;28;01mraise\u001b[39;00m \u001b[38;5;167;01mTypeError\u001b[39;00m(\n\u001b[1;32m    566\u001b[0m         \u001b[38;5;124mf\u001b[39m\u001b[38;5;124m\"\u001b[39m\u001b[38;5;132;01m{\u001b[39;00mpy_operation_name\u001b[38;5;132;01m}\u001b[39;00m\u001b[38;5;124m() only accepts keyword arguments.\u001b[39m\u001b[38;5;124m\"\u001b[39m\n\u001b[1;32m    567\u001b[0m     )\n\u001b[1;32m    568\u001b[0m \u001b[38;5;66;03m# The \"self\" in this scope is referring to the BaseClient.\u001b[39;00m\n\u001b[0;32m--> 569\u001b[0m \u001b[38;5;28;01mreturn\u001b[39;00m \u001b[38;5;28;43mself\u001b[39;49m\u001b[38;5;241;43m.\u001b[39;49m\u001b[43m_make_api_call\u001b[49m\u001b[43m(\u001b[49m\u001b[43moperation_name\u001b[49m\u001b[43m,\u001b[49m\u001b[43m \u001b[49m\u001b[43mkwargs\u001b[49m\u001b[43m)\u001b[49m\n",
      "File \u001b[0;32m~/anaconda3/envs/python3/lib/python3.10/site-packages/botocore/client.py:1023\u001b[0m, in \u001b[0;36mBaseClient._make_api_call\u001b[0;34m(self, operation_name, api_params)\u001b[0m\n\u001b[1;32m   1019\u001b[0m     error_code \u001b[38;5;241m=\u001b[39m error_info\u001b[38;5;241m.\u001b[39mget(\u001b[38;5;124m\"\u001b[39m\u001b[38;5;124mQueryErrorCode\u001b[39m\u001b[38;5;124m\"\u001b[39m) \u001b[38;5;129;01mor\u001b[39;00m error_info\u001b[38;5;241m.\u001b[39mget(\n\u001b[1;32m   1020\u001b[0m         \u001b[38;5;124m\"\u001b[39m\u001b[38;5;124mCode\u001b[39m\u001b[38;5;124m\"\u001b[39m\n\u001b[1;32m   1021\u001b[0m     )\n\u001b[1;32m   1022\u001b[0m     error_class \u001b[38;5;241m=\u001b[39m \u001b[38;5;28mself\u001b[39m\u001b[38;5;241m.\u001b[39mexceptions\u001b[38;5;241m.\u001b[39mfrom_code(error_code)\n\u001b[0;32m-> 1023\u001b[0m     \u001b[38;5;28;01mraise\u001b[39;00m error_class(parsed_response, operation_name)\n\u001b[1;32m   1024\u001b[0m \u001b[38;5;28;01melse\u001b[39;00m:\n\u001b[1;32m   1025\u001b[0m     \u001b[38;5;28;01mreturn\u001b[39;00m parsed_response\n",
      "\u001b[0;31mClientError\u001b[0m: An error occurred (AllAccessDisabled) when calling the ListObjects operation: All access to this object has been disabled"
     ]
    }
   ],
   "source": [
    "import boto3\n",
    "from sagemaker import Session\n",
    "\n",
    "# Replace with your actual predictor variable (ensure it's correctly defined)\n",
    "# Assuming xdb_predictor is defined and you want to delete its endpoint\n",
    "try:\n",
    "    # Delete the SageMaker endpoint\n",
    "    sagemaker.Session().delete_endpoint(xdb_predictor.endpoint)\n",
    "    print(f\"Deleted SageMaker endpoint: {xdb_predictor.endpoint}\")\n",
    "except Exception as e:\n",
    "    print(f\"Error deleting endpoint: {e}\")\n",
    "\n",
    "# Replace 'bucket_name' with your actual S3 bucket name\n",
    "bucket_name = 'bankapplication-b7c02fe6-e9dc-4369-9db5-4d612b7ad56b'\n",
    "\n",
    "# Initialize the S3 resource\n",
    "bucket_to_delete = boto3.resource('s3').Bucket(bucket_name)\n",
    "\n",
    "# Delete all objects in the bucket\n",
    "try:\n",
    "    # Delete all objects in the bucket\n",
    "    bucket_to_delete.objects.all().delete()\n",
    "    print(\"Deleted all objects in the bucket.\")\n",
    "except Exception as e:\n",
    "    print(f\"Error deleting objects in bucket: {e}\")\n"
   ]
  },
  {
   "cell_type": "code",
   "execution_count": null,
   "id": "2eb39967",
   "metadata": {},
   "outputs": [],
   "source": []
  }
 ],
 "metadata": {
  "kernelspec": {
   "display_name": "conda_python3",
   "language": "python",
   "name": "conda_python3"
  },
  "language_info": {
   "codemirror_mode": {
    "name": "ipython",
    "version": 3
   },
   "file_extension": ".py",
   "mimetype": "text/x-python",
   "name": "python",
   "nbconvert_exporter": "python",
   "pygments_lexer": "ipython3",
   "version": "3.10.14"
  }
 },
 "nbformat": 4,
 "nbformat_minor": 5
}
